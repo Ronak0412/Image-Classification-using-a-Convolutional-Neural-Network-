{
 "cells": [
  {
   "cell_type": "markdown",
   "metadata": {
    "collapsed": true,
    "deletable": true,
    "editable": true
   },
   "source": [
    "# Image Classification\n",
    "In this project, you'll classify images from the [CIFAR-10 dataset](https://www.cs.toronto.edu/~kriz/cifar.html).  The dataset consists of airplanes, dogs, cats, and other objects. You'll preprocess the images, then train a convolutional neural network on all the samples. The images need to be normalized and the labels need to be one-hot encoded.  You'll get to apply what you learned and build a convolutional, max pooling, dropout, and fully connected layers.  At the end, you'll get to see your neural network's predictions on the sample images.\n",
    "## Get the Data\n",
    "Run the following cell to download the [CIFAR-10 dataset for python](https://www.cs.toronto.edu/~kriz/cifar-10-python.tar.gz)."
   ]
  },
  {
   "cell_type": "code",
   "execution_count": 22,
   "metadata": {
    "collapsed": false,
    "deletable": true,
    "editable": true
   },
   "outputs": [
    {
     "name": "stdout",
     "output_type": "stream",
     "text": [
      "All files found!\n"
     ]
    }
   ],
   "source": [
    "\"\"\"\n",
    "DON'T MODIFY ANYTHING IN THIS CELL THAT IS BELOW THIS LINE\n",
    "\"\"\"\n",
    "from urllib.request import urlretrieve\n",
    "from os.path import isfile, isdir\n",
    "from tqdm import tqdm\n",
    "import problem_unittests as tests\n",
    "import tarfile\n",
    "\n",
    "cifar10_dataset_folder_path = 'cifar-10-batches-py'\n",
    "\n",
    "class DLProgress(tqdm):\n",
    "    last_block = 0\n",
    "\n",
    "    def hook(self, block_num=1, block_size=1, total_size=None):\n",
    "        self.total = total_size\n",
    "        self.update((block_num - self.last_block) * block_size)\n",
    "        self.last_block = block_num\n",
    "\n",
    "if not isfile('cifar-10-python.tar.gz'):\n",
    "    with DLProgress(unit='B', unit_scale=True, miniters=1, desc='CIFAR-10 Dataset') as pbar:\n",
    "        urlretrieve(\n",
    "            'https://www.cs.toronto.edu/~kriz/cifar-10-python.tar.gz',\n",
    "            'cifar-10-python.tar.gz',\n",
    "            pbar.hook)\n",
    "\n",
    "if not isdir(cifar10_dataset_folder_path):\n",
    "    with tarfile.open('cifar-10-python.tar.gz') as tar:\n",
    "        tar.extractall()\n",
    "        tar.close()\n",
    "\n",
    "\n",
    "tests.test_folder_path(cifar10_dataset_folder_path)"
   ]
  },
  {
   "cell_type": "markdown",
   "metadata": {
    "deletable": true,
    "editable": true
   },
   "source": [
    "## Explore the Data\n",
    "The dataset is broken into batches to prevent your machine from running out of memory.  The CIFAR-10 dataset consists of 5 batches, named `data_batch_1`, `data_batch_2`, etc.. Each batch contains the labels and images that are one of the following:\n",
    "* airplane\n",
    "* automobile\n",
    "* bird\n",
    "* cat\n",
    "* deer\n",
    "* dog\n",
    "* frog\n",
    "* horse\n",
    "* ship\n",
    "* truck\n",
    "\n",
    "Understanding a dataset is part of making predictions on the data.  Play around with the code cell below by changing the `batch_id` and `sample_id`. The `batch_id` is the id for a batch (1-5). The `sample_id` is the id for a image and label pair in the batch.\n",
    "\n",
    "Ask yourself \"What are all possible labels?\", \"What is the range of values for the image data?\", \"Are the labels in order or random?\".  Answers to questions like these will help you preprocess the data and end up with better predictions."
   ]
  },
  {
   "cell_type": "code",
   "execution_count": 23,
   "metadata": {
    "collapsed": false,
    "deletable": true,
    "editable": true
   },
   "outputs": [
    {
     "name": "stdout",
     "output_type": "stream",
     "text": [
      "\n",
      "Stats of batch 5:\n",
      "Samples: 10000\n",
      "Label Counts: {0: 1014, 1: 1014, 2: 952, 3: 1016, 4: 997, 5: 1025, 6: 980, 7: 977, 8: 1003, 9: 1022}\n",
      "First 20 Labels: [1, 8, 5, 1, 5, 7, 4, 3, 8, 2, 7, 2, 0, 1, 5, 9, 6, 2, 0, 8]\n",
      "\n",
      "Example of Image 40:\n",
      "Image - Min Value: 0 Max Value: 255\n",
      "Image - Shape: (32, 32, 3)\n",
      "Label - Label Id: 9 Name: truck\n"
     ]
    },
    {
     "data": {
      "image/png": "[encoded data removed]",
      "text/plain": [
       "<matplotlib.figure.Figure at 0x7fd4b384ec88>"
      ]
     },
     "metadata": {
      "image/png": {
       "height": 250,
       "width": 253
      }
     },
     "output_type": "display_data"
    }
   ],
   "source": [
    "%matplotlib inline\n",
    "%config InlineBackend.figure_format = 'retina'\n",
    "\n",
    "import helper\n",
    "import numpy as np\n",
    "\n",
    "# Explore the dataset\n",
    "batch_id = 5\n",
    "sample_id = 40\n",
    "helper.display_stats(cifar10_dataset_folder_path, batch_id, sample_id)"
   ]
  },
  {
   "cell_type": "markdown",
   "metadata": {
    "deletable": true,
    "editable": true
   },
   "source": [
    "## Implement Preprocess Functions\n",
    "### Normalize\n",
    "In the cell below, implement the `normalize` function to take in image data, `x`, and return it as a normalized Numpy array. The values should be in the range of 0 to 1, inclusive.  The return object should be the same shape as `x`."
   ]
  },
  {
   "cell_type": "code",
   "execution_count": 24,
   "metadata": {
    "collapsed": false,
    "deletable": true,
    "editable": true
   },
   "outputs": [
    {
     "name": "stdout",
     "output_type": "stream",
     "text": [
      "Tests Passed\n"
     ]
    }
   ],
   "source": [
    "import tensorflow as tf\n",
    "\n",
    "def normalize(x):\n",
    "    min_value = 0\n",
    "    max_value = 255\n",
    "    return (x-min_value)/(max_value-min_value)\n",
    "\n",
    "\"\"\"\n",
    "DON'T MODIFY ANYTHING IN THIS CELL THAT IS BELOW THIS LINE\n",
    "\"\"\"\n",
    "tests.test_normalize(normalize)"
   ]
  },
  {
   "cell_type": "markdown",
   "metadata": {
    "deletable": true,
    "editable": true
   },
   "source": [
    "### One-hot encode\n",
    "Just like the previous code cell, you'll be implementing a function for preprocessing.  This time, you'll implement the `one_hot_encode` function. The input, `x`, are a list of labels.  Implement the function to return the list of labels as One-Hot encoded Numpy array.  The possible values for labels are 0 to 9. The one-hot encoding function should return the same encoding for each value between each call to `one_hot_encode`.  Make sure to save the map of encodings outside the function.\n",
    "\n",
    "Hint: Don't reinvent the wheel."
   ]
  },
  {
   "cell_type": "code",
   "execution_count": 25,
   "metadata": {
    "collapsed": false,
    "deletable": true,
    "editable": true
   },
   "outputs": [
    {
     "name": "stdout",
     "output_type": "stream",
     "text": [
      "Tests Passed\n"
     ]
    }
   ],
   "source": [
    "\n",
    "from sklearn import preprocessing\n",
    "   \n",
    "       \n",
    "def one_hot_encode(x):\n",
    "    \"\"\"\n",
    "    One hot encode a list of sample labels. Return a one-hot encoded vector for each label.\n",
    "    : x: List of sample Labels\n",
    "    : return: Numpy array of one-hot encoded labels\n",
    "    \"\"\"\n",
    "    # TODO: Implement Function\n",
    "    y = np.zeros((len(x), 10))\n",
    "    for i in range(len(x)):\n",
    "        y[i,x[i]] = 1\n",
    "    return y\n",
    "\n",
    "\n",
    "\"\"\"\n",
    "DON'T MODIFY ANYTHING IN THIS CELL THAT IS BELOW THIS LINE\n",
    "\"\"\"\n",
    "tests.test_one_hot_encode(one_hot_encode)"
   ]
  },
  {
   "cell_type": "markdown",
   "metadata": {
    "deletable": true,
    "editable": true
   },
   "source": [
    "### Randomize Data\n",
    "As you saw from exploring the data above, the order of the samples are randomized.  It doesn't hurt to randomize it again, but you don't need to for this dataset."
   ]
  },
  {
   "cell_type": "markdown",
   "metadata": {
    "deletable": true,
    "editable": true
   },
   "source": [
    "## Preprocess all the data and save it\n",
    "Running the code cell below will preprocess all the CIFAR-10 data and save it to file. The code below also uses 10% of the training data for validation."
   ]
  },
  {
   "cell_type": "code",
   "execution_count": 26,
   "metadata": {
    "collapsed": false,
    "deletable": true,
    "editable": true
   },
   "outputs": [],
   "source": [
    "\"\"\"\n",
    "DON'T MODIFY ANYTHING IN THIS CELL\n",
    "\"\"\"\n",
    "# Preprocess Training, Validation, and Testing Data\n",
    "helper.preprocess_and_save_data(cifar10_dataset_folder_path, normalize, one_hot_encode)"
   ]
  },
  {
   "cell_type": "markdown",
   "metadata": {
    "deletable": true,
    "editable": true
   },
   "source": [
    "# Check Point\n",
    "This is your first checkpoint.  If you ever decide to come back to this notebook or have to restart the notebook, you can start from here.  The preprocessed data has been saved to disk."
   ]
  },
  {
   "cell_type": "code",
   "execution_count": 27,
   "metadata": {
    "collapsed": true,
    "deletable": true,
    "editable": true
   },
   "outputs": [],
   "source": [
    "\"\"\"\n",
    "DON'T MODIFY ANYTHING IN THIS CELL\n",
    "\"\"\"\n",
    "import pickle\n",
    "import problem_unittests as tests\n",
    "import helper\n",
    "\n",
    "# Load the Preprocessed Validation data\n",
    "valid_features, valid_labels = pickle.load(open('preprocess_validation.p', mode='rb'))"
   ]
  },
  {
   "cell_type": "markdown",
   "metadata": {
    "deletable": true,
    "editable": true
   },
   "source": [
    "## Build the network\n",
    "For the neural network, you'll build each layer into a function.  Most of the code you've seen has been outside of functions. To test your code more thoroughly, we require that you put each layer in a function.  This allows us to give you better feedback and test for simple mistakes using our unittests before you submit your project.\n",
    "\n",
    ">**Note:** If you're finding it hard to dedicate enough time for this course each week, we've provided a small shortcut to this part of the project. In the next couple of problems, you'll have the option to use classes from the [TensorFlow Layers](https://www.tensorflow.org/api_docs/python/tf/layers) or [TensorFlow Layers (contrib)](https://www.tensorflow.org/api_guides/python/contrib.layers) packages to build each layer, except the layers you build in the \"Convolutional and Max Pooling Layer\" section.  TF Layers is similar to Keras's and TFLearn's abstraction to layers, so it's easy to pickup.\n",
    "\n",
    ">However, if you would like to get the most out of this course, try to solve all the problems _without_ using anything from the TF Layers packages. You **can** still use classes from other packages that happen to have the same name as ones you find in TF Layers! For example, instead of using the TF Layers version of the `conv2d` class, [tf.layers.conv2d](https://www.tensorflow.org/api_docs/python/tf/layers/conv2d), you would want to use the TF Neural Network version of `conv2d`, [tf.nn.conv2d](https://www.tensorflow.org/api_docs/python/tf/nn/conv2d). \n",
    "\n",
    "Let's begin!\n",
    "\n",
    "### Input\n",
    "The neural network needs to read the image data, one-hot encoded labels, and dropout keep probability. Implement the following functions\n",
    "* Implement `neural_net_image_input`\n",
    " * Return a [TF Placeholder](https://www.tensorflow.org/api_docs/python/tf/placeholder)\n",
    " * Set the shape using `image_shape` with batch size set to `None`.\n",
    " * Name the TensorFlow placeholder \"x\" using the TensorFlow `name` parameter in the [TF Placeholder](https://www.tensorflow.org/api_docs/python/tf/placeholder).\n",
    "* Implement `neural_net_label_input`\n",
    " * Return a [TF Placeholder](https://www.tensorflow.org/api_docs/python/tf/placeholder)\n",
    " * Set the shape using `n_classes` with batch size set to `None`.\n",
    " * Name the TensorFlow placeholder \"y\" using the TensorFlow `name` parameter in the [TF Placeholder](https://www.tensorflow.org/api_docs/python/tf/placeholder).\n",
    "* Implement `neural_net_keep_prob_input`\n",
    " * Return a [TF Placeholder](https://www.tensorflow.org/api_docs/python/tf/placeholder) for dropout keep probability.\n",
    " * Name the TensorFlow placeholder \"keep_prob\" using the TensorFlow `name` parameter in the [TF Placeholder](https://www.tensorflow.org/api_docs/python/tf/placeholder).\n",
    "\n",
    "These names will be used at the end of the project to load your saved model.\n",
    "\n",
    "Note: `None` for shapes in TensorFlow allow for a dynamic size."
   ]
  },
  {
   "cell_type": "code",
   "execution_count": 28,
   "metadata": {
    "collapsed": false,
    "deletable": true,
    "editable": true
   },
   "outputs": [
    {
     "name": "stdout",
     "output_type": "stream",
     "text": [
      "Image Input Tests Passed.\n",
      "Label Input Tests Passed.\n",
      "Keep Prob Tests Passed.\n"
     ]
    }
   ],
   "source": [
    "import tensorflow as tf\n",
    "\n",
    "def neural_net_image_input(image_shape):\n",
    "    \"\"\"\n",
    "    Return a Tensor for a bach of image input\n",
    "    : image_shape: Shape of the images\n",
    "    : return: Tensor for image input.\n",
    "    \"\"\"\n",
    "    # TODO: Implement Function \n",
    "    a=tf.placeholder(tf.float32, [None] + list(image_shape), \"x\")\n",
    "    return a\n",
    "\n",
    "\n",
    "def neural_net_label_input(n_classes):\n",
    "    \"\"\"\n",
    "    Return a Tensor for a batch of label input\n",
    "    : n_classes: Number of classes\n",
    "    : return: Tensor for label input.\n",
    "    \"\"\"\n",
    "    # TODO: Implement Function\n",
    "    b=tf.placeholder(tf.float32, [None, n_classes], \"y\")\n",
    "    return b\n",
    "\n",
    "\n",
    "def neural_net_keep_prob_input():\n",
    "    \"\"\"\n",
    "    Return a Tensor for keep probability\n",
    "    : return: Tensor for keep probability.\n",
    "    \"\"\"\n",
    "    # TODO: Implement Function\n",
    "    c=tf.placeholder(tf.float32, None, \"keep_prob\")\n",
    "    return c\n",
    "\n",
    "\n",
    "\"\"\"\n",
    "DON'T MODIFY ANYTHING IN THIS CELL THAT IS BELOW THIS LINE\n",
    "\"\"\"\n",
    "tf.reset_default_graph()\n",
    "tests.test_nn_image_inputs(neural_net_image_input)\n",
    "tests.test_nn_label_inputs(neural_net_label_input)\n",
    "tests.test_nn_keep_prob_inputs(neural_net_keep_prob_input)"
   ]
  },
  {
   "cell_type": "markdown",
   "metadata": {
    "deletable": true,
    "editable": true
   },
   "source": [
    "### Convolution and Max Pooling Layer\n",
    "Convolution layers have a lot of success with images. For this code cell, you should implement the function `conv2d_maxpool` to apply convolution then max pooling:\n",
    "* Create the weight and bias using `conv_ksize`, `conv_num_outputs` and the shape of `x_tensor`.\n",
    "* Apply a convolution to `x_tensor` using weight and `conv_strides`.\n",
    " * We recommend you use same padding, but you're welcome to use any padding.\n",
    "* Add bias\n",
    "* Add a nonlinear activation to the convolution.\n",
    "* Apply Max Pooling using `pool_ksize` and `pool_strides`.\n",
    " * We recommend you use same padding, but you're welcome to use any padding.\n",
    "\n",
    "**Note:** You **can't** use [TensorFlow Layers](https://www.tensorflow.org/api_docs/python/tf/layers) or [TensorFlow Layers (contrib)](https://www.tensorflow.org/api_guides/python/contrib.layers) for **this** layer, but you can still use TensorFlow's [Neural Network](https://www.tensorflow.org/api_docs/python/tf/nn) package. You may still use the shortcut option for all the **other** layers."
   ]
  },
  {
   "cell_type": "code",
   "execution_count": 43,
   "metadata": {
    "collapsed": false,
    "deletable": true,
    "editable": true
   },
   "outputs": [
    {
     "name": "stdout",
     "output_type": "stream",
     "text": [
      "Tests Passed\n"
     ]
    }
   ],
   "source": [
    "def conv2d_maxpool(x_tensor, conv_num_outputs, conv_ksize, conv_strides, pool_ksize, pool_strides):\n",
    "    \"\"\"\n",
    "    Apply convolution then max pooling to x_tensor\n",
    "    :param x_tensor: TensorFlow Tensor\n",
    "    :param conv_num_outputs: Number of outputs for the convolutional layer\n",
    "    :param conv_ksize: kernal size 2-D Tuple for the convolutional layer\n",
    "    :param conv_strides: Stride 2-D Tuple for convolution\n",
    "    :param pool_ksize: kernal size 2-D Tuple for pool\n",
    "    :param pool_strides: Stride 2-D Tuple for pool\n",
    "    : return: A tensor that represents convolution and max pooling of x_tensor\n",
    "    \"\"\"\n",
    "    # TODO: Implement Function    \n",
    "    shape = x_tensor.get_shape().as_list()\n",
    "    depth=shape[3]\n",
    "    #print(shape)\n",
    "    weights = tf.Variable(tf.truncated_normal((conv_ksize[0],conv_ksize[1],depth,conv_num_outputs),0,0.1)) # (height, width, input_depth, output_depth)\n",
    "    bias = tf.Variable(tf.zeros(conv_num_outputs))\n",
    "    \n",
    "    #print(list((1,)+conv_strides+(1,)))\n",
    "    #print(filter_weights)\n",
    "    conv_layer = tf.nn.conv2d(x_tensor, weights,strides=[1, conv_strides[0], conv_strides[1], 1],padding='SAME')\n",
    "    conv_layer = tf.nn.bias_add(conv_layer, bias)\n",
    "    \n",
    "    conv_layer = tf.nn.relu(conv_layer)\n",
    "    \n",
    "    conv_layer = tf.nn.max_pool(\n",
    "        conv_layer,\n",
    "        ksize=[1, pool_ksize[0], pool_ksize[1], 1],\n",
    "        strides=[1, pool_strides[0], pool_strides[1], 1],\n",
    "        padding='SAME')\n",
    "    \n",
    "    \n",
    "    return conv_layer\n",
    "\n",
    "\"\"\"\n",
    "DON'T MODIFY ANYTHING IN THIS CELL THAT IS BELOW THIS LINE\n",
    "\"\"\"\n",
    "tests.test_con_pool(conv2d_maxpool)"
   ]
  },
  {
   "cell_type": "markdown",
   "metadata": {
    "deletable": true,
    "editable": true
   },
   "source": [
    "### Flatten Layer\n",
    "Implement the `flatten` function to change the dimension of `x_tensor` from a 4-D tensor to a 2-D tensor.  The output should be the shape (*Batch Size*, *Flattened Image Size*). Shortcut option: you can use classes from the [TensorFlow Layers](https://www.tensorflow.org/api_docs/python/tf/layers) or [TensorFlow Layers (contrib)](https://www.tensorflow.org/api_guides/python/contrib.layers) packages for this layer. For more of a challenge, only use other TensorFlow packages."
   ]
  },
  {
   "cell_type": "code",
   "execution_count": 44,
   "metadata": {
    "collapsed": false,
    "deletable": true,
    "editable": true
   },
   "outputs": [
    {
     "name": "stdout",
     "output_type": "stream",
     "text": [
      "Tests Passed\n"
     ]
    }
   ],
   "source": [
    "from numpy import prod\n",
    "def flatten(x_tensor):\n",
    "    \"\"\"\n",
    "    Flatten x_tensor to (Batch Size, Flattened Image Size)\n",
    "    : x_tensor: A tensor of size (Batch Size, ...), where ... are the image dimensions.\n",
    "    : return: A tensor of size (Batch Size, Flattened Image Size).\n",
    "    \"\"\"\n",
    "    # TODO: Implement Function\n",
    "    #return None\n",
    "    shape = x_tensor.get_shape().as_list()    \n",
    "    flatten = shape[1] * shape[2] * shape[3]\n",
    "    flatten_image=tf.reshape(x_tensor,[-1,flatten])\n",
    "    return flatten_image\n",
    "\n",
    "\n",
    "\"\"\"\n",
    "DON'T MODIFY ANYTHING IN THIS CELL THAT IS BELOW THIS LINE\n",
    "\"\"\"\n",
    "tests.test_flatten(flatten)"
   ]
  },
  {
   "cell_type": "markdown",
   "metadata": {
    "deletable": true,
    "editable": true
   },
   "source": [
    "### Fully-Connected Layer\n",
    "Implement the `fully_conn` function to apply a fully connected layer to `x_tensor` with the shape (*Batch Size*, *num_outputs*). Shortcut option: you can use classes from the [TensorFlow Layers](https://www.tensorflow.org/api_docs/python/tf/layers) or [TensorFlow Layers (contrib)](https://www.tensorflow.org/api_guides/python/contrib.layers) packages for this layer. For more of a challenge, only use other TensorFlow packages."
   ]
  },
  {
   "cell_type": "code",
   "execution_count": 45,
   "metadata": {
    "collapsed": false,
    "deletable": true,
    "editable": true
   },
   "outputs": [
    {
     "name": "stdout",
     "output_type": "stream",
     "text": [
      "Tests Passed\n"
     ]
    }
   ],
   "source": [
    "def fully_conn(x_tensor, num_outputs):\n",
    "    \"\"\"\n",
    "    Apply a fully connected layer to x_tensor using weight and bias\n",
    "    : x_tensor: A 2-D tensor where the first dimension is batch size.\n",
    "    : num_outputs: The number of output that the new tensor should be.\n",
    "    : return: A 2-D tensor where the second dimension is num_outputs.\n",
    "    \"\"\"\n",
    "    # TODO: Implement Function\n",
    "    #return None\n",
    "    shape = x_tensor.get_shape().as_list()\n",
    "    input_shape=shape[1]\n",
    "    weights = tf.Variable(tf.truncated_normal((input_shape,num_outputs),0,0.1))\n",
    "    bias = tf.Variable(tf.zeros(num_outputs))\n",
    "    fully_connected_layer=tf.matmul(x_tensor,weights)\n",
    "    fully_connected_layer=tf.add(fully_connected_layer,bias)\n",
    "    fully_connected_layer=tf.nn.relu(fully_connected_layer)\n",
    "    return fully_connected_layer\n",
    "\n",
    "\n",
    "\n",
    "\"\"\"\n",
    "DON'T MODIFY ANYTHING IN THIS CELL THAT IS BELOW THIS LINE\n",
    "\"\"\"\n",
    "tests.test_fully_conn(fully_conn)"
   ]
  },
  {
   "cell_type": "markdown",
   "metadata": {
    "deletable": true,
    "editable": true
   },
   "source": [
    "### Output Layer\n",
    "Implement the `output` function to apply a fully connected layer to `x_tensor` with the shape (*Batch Size*, *num_outputs*). Shortcut option: you can use classes from the [TensorFlow Layers](https://www.tensorflow.org/api_docs/python/tf/layers) or [TensorFlow Layers (contrib)](https://www.tensorflow.org/api_guides/python/contrib.layers) packages for this layer. For more of a challenge, only use other TensorFlow packages.\n",
    "\n",
    "**Note:** Activation, softmax, or cross entropy should **not** be applied to this."
   ]
  },
  {
   "cell_type": "code",
   "execution_count": 46,
   "metadata": {
    "collapsed": false,
    "deletable": true,
    "editable": true
   },
   "outputs": [
    {
     "name": "stdout",
     "output_type": "stream",
     "text": [
      "Tests Passed\n"
     ]
    }
   ],
   "source": [
    "def output(x_tensor, num_outputs):\n",
    "    \"\"\"\n",
    "    Apply a output layer to x_tensor using weight and bias\n",
    "    : x_tensor: A 2-D tensor where the first dimension is batch size.\n",
    "    : num_outputs: The number of output that the new tensor should be.\n",
    "    : return: A 2-D tensor where the second dimension is num_outputs.\n",
    "    \"\"\"\n",
    "    # TODO: Implement Function\n",
    "    # return None\n",
    "    shape = x_tensor.get_shape().as_list()\n",
    "    input_shape=shape[1]    \n",
    "    weights = tf.Variable(tf.truncated_normal((input_shape,num_outputs),0,0.01))\n",
    "    bias = tf.Variable(tf.zeros(num_outputs))\n",
    "    output_layer=tf.matmul(x_tensor,weights)\n",
    "    output_layer=tf.add(output_layer,bias)\n",
    "    return output_layer\n",
    "\n",
    "\n",
    "\"\"\"\n",
    "DON'T MODIFY ANYTHING IN THIS CELL THAT IS BELOW THIS LINE\n",
    "\"\"\"\n",
    "tests.test_output(output)"
   ]
  },
  {
   "cell_type": "markdown",
   "metadata": {
    "deletable": true,
    "editable": true
   },
   "source": [
    "### Create Convolutional Model\n",
    "Implement the function `conv_net` to create a convolutional neural network model. The function takes in a batch of images, `x`, and outputs logits.  Use the layers you created above to create this model:\n",
    "\n",
    "* Apply 1, 2, or 3 Convolution and Max Pool layers\n",
    "* Apply a Flatten Layer\n",
    "* Apply 1, 2, or 3 Fully Connected Layers\n",
    "* Apply an Output Layer\n",
    "* Return the output\n",
    "* Apply [TensorFlow's Dropout](https://www.tensorflow.org/api_docs/python/tf/nn/dropout) to one or more layers in the model using `keep_prob`. "
   ]
  },
  {
   "cell_type": "code",
   "execution_count": 47,
   "metadata": {
    "collapsed": false,
    "deletable": true,
    "editable": true
   },
   "outputs": [
    {
     "name": "stdout",
     "output_type": "stream",
     "text": [
      "Neural Network Built!\n"
     ]
    }
   ],
   "source": [
    "def conv_net(x, keep_prob):\n",
    "    \"\"\"\n",
    "    Create a convolutional neural network model\n",
    "    : x: Placeholder tensor that holds image data.\n",
    "    : keep_prob: Placeholder tensor that hold dropout keep probability.\n",
    "    : return: Tensor that represents logits\n",
    "    \"\"\"\n",
    "    # TODO: Apply 1, 2, or 3 Convolution and Max Pool layers\n",
    "    #    Play around with different number of outputs, kernel size and stride\n",
    "    # Function Definition from Above:\n",
    "    #    conv2d_maxpool(x_tensor, conv_num_outputs, conv_ksize, conv_strides, pool_ksize, pool_strides)\n",
    "    final_model = conv2d_maxpool(x, 18, (4,4), (1,1), (8,8), (1,1))\n",
    "    #final_model = conv2d_maxpool(x,36, (4,4), (1,1),(2,2),(1,1))\n",
    "    #final_model = conv2d_maxpool(final_model,8,(4,4),(1,1),(4,4),(1,1))\n",
    "    final_model = tf.nn.dropout(final_model, keep_prob)\n",
    "    \n",
    "    # TODO: Apply a Flatten Layer\n",
    "    # Function Definition from Above:\n",
    "    #   flatten(x_tensor)\n",
    "    final_model = flatten(final_model)\n",
    "\n",
    "    # TODO: Apply 1, 2, or 3 Fully Connected Layers\n",
    "    #    Play around with different number of outputs\n",
    "    # Function Definition from Above:\n",
    "    #   fully_conn(x_tensor, num_outputs)\n",
    "    final_model = fully_conn(final_model,350)\n",
    "    #final_model = fully_conn(model,200)\n",
    "    #final_model = fully_conn(model,20)\n",
    "    \n",
    "    final_model = tf.nn.dropout(final_model, keep_prob)\n",
    "    \n",
    "    # TODO: Apply an Output Layer\n",
    "    #    Set this to the number of classes\n",
    "    # Function Definition from Above:\n",
    "    #   output(x_tensor, num_outputs)\n",
    "    final_model = output(final_model,10)\n",
    "    \n",
    "    # TODO: return output\n",
    "    return final_model\n",
    "\n",
    "\n",
    "\"\"\"\n",
    "DON'T MODIFY ANYTHING IN THIS CELL THAT IS BELOW THIS LINE\n",
    "\"\"\"\n",
    "\n",
    "##############################\n",
    "## Build the Neural Network ##\n",
    "##############################\n",
    "\n",
    "# Remove previous weights, bias, inputs, etc..\n",
    "tf.reset_default_graph()\n",
    "\n",
    "# Inputs\n",
    "x = neural_net_image_input((32, 32, 3))\n",
    "y = neural_net_label_input(10)\n",
    "keep_prob = neural_net_keep_prob_input()\n",
    "\n",
    "# Model\n",
    "logits = conv_net(x, keep_prob)\n",
    "\n",
    "# Name logits Tensor, so that is can be loaded from disk after training\n",
    "logits = tf.identity(logits, name='logits')\n",
    "\n",
    "# Loss and Optimizer\n",
    "cost = tf.reduce_mean(tf.nn.softmax_cross_entropy_with_logits(logits=logits, labels=y))\n",
    "optimizer = tf.train.AdamOptimizer().minimize(cost)\n",
    "\n",
    "# Accuracy\n",
    "correct_pred = tf.equal(tf.argmax(logits, 1), tf.argmax(y, 1))\n",
    "accuracy = tf.reduce_mean(tf.cast(correct_pred, tf.float32), name='accuracy')\n",
    "\n",
    "tests.test_conv_net(conv_net)"
   ]
  },
  {
   "cell_type": "markdown",
   "metadata": {
    "deletable": true,
    "editable": true
   },
   "source": [
    "## Train the Neural Network\n",
    "### Single Optimization\n",
    "Implement the function `train_neural_network` to do a single optimization.  The optimization should use `optimizer` to optimize in `session` with a `feed_dict` of the following:\n",
    "* `x` for image input\n",
    "* `y` for labels\n",
    "* `keep_prob` for keep probability for dropout\n",
    "\n",
    "This function will be called for each batch, so `tf.global_variables_initializer()` has already been called.\n",
    "\n",
    "Note: Nothing needs to be returned. This function is only optimizing the neural network."
   ]
  },
  {
   "cell_type": "code",
   "execution_count": 48,
   "metadata": {
    "collapsed": false,
    "deletable": true,
    "editable": true
   },
   "outputs": [
    {
     "name": "stdout",
     "output_type": "stream",
     "text": [
      "Tests Passed\n"
     ]
    }
   ],
   "source": [
    "def train_neural_network(session, optimizer, keep_probability, feature_batch, label_batch):\n",
    "    \"\"\"\n",
    "    Optimize the session on a batch of images and labels\n",
    "    : session: Current TensorFlow session\n",
    "    : optimizer: TensorFlow optimizer function\n",
    "    : keep_probability: keep probability\n",
    "    : feature_batch: Batch of Numpy image data\n",
    "    : label_batch: Batch of Numpy label data\n",
    "    \"\"\"\n",
    "    # TODO: Implement Function\n",
    "    session.run(optimizer, feed_dict={x:feature_batch, y:label_batch, keep_prob:keep_probability})\n",
    "\n",
    "\n",
    "\"\"\"\n",
    "DON'T MODIFY ANYTHING IN THIS CELL THAT IS BELOW THIS LINE\n",
    "\"\"\"\n",
    "tests.test_train_nn(train_neural_network)"
   ]
  },
  {
   "cell_type": "markdown",
   "metadata": {
    "deletable": true,
    "editable": true
   },
   "source": [
    "### Show Stats\n",
    "Implement the function `print_stats` to print loss and validation accuracy.  Use the global variables `valid_features` and `valid_labels` to calculate validation accuracy.  Use a keep probability of `1.0` to calculate the loss and validation accuracy."
   ]
  },
  {
   "cell_type": "code",
   "execution_count": 49,
   "metadata": {
    "collapsed": false,
    "deletable": true,
    "editable": true
   },
   "outputs": [],
   "source": [
    "def print_stats(session, feature_batch, label_batch, cost, accuracy):\n",
    "    \"\"\"\n",
    "    Print information about loss and validation accuracy\n",
    "    : session: Current TensorFlow session\n",
    "    : feature_batch: Batch of Numpy image data\n",
    "    : label_batch: Batch of Numpy label data\n",
    "    : cost: TensorFlow cost function\n",
    "    : accuracy: TensorFlow accuracy function\n",
    "    \"\"\"\n",
    "    # TODO: Implement Function\n",
    "    loss = session.run(cost, feed_dict={x:feature_batch, y:label_batch, keep_prob:1.0})\n",
    "    valid_acc = sess.run(accuracy, feed_dict={\n",
    "                x: valid_features,\n",
    "                y: valid_labels,\n",
    "                keep_prob: 1.})\n",
    "    print('Loss: {:>10.4f} Validation Accuracy: {:.6f}'.format(\n",
    "                loss,\n",
    "                valid_acc))"
   ]
  },
  {
   "cell_type": "markdown",
   "metadata": {
    "deletable": true,
    "editable": true
   },
   "source": [
    "### Hyperparameters\n",
    "Tune the following parameters:\n",
    "* Set `epochs` to the number of iterations until the network stops learning or start overfitting\n",
    "* Set `batch_size` to the highest number that your machine has memory for.  Most people set them to common sizes of memory:\n",
    " * 64\n",
    " * 128\n",
    " * 256\n",
    " * ...\n",
    "* Set `keep_probability` to the probability of keeping a node using dropout"
   ]
  },
  {
   "cell_type": "code",
   "execution_count": 52,
   "metadata": {
    "collapsed": true,
    "deletable": true,
    "editable": true
   },
   "outputs": [],
   "source": [
    "# TODO: Tune Parameters\n",
    "epochs = 50\n",
    "batch_size = 500\n",
    "keep_probability = 0.3"
   ]
  },
  {
   "cell_type": "markdown",
   "metadata": {
    "deletable": true,
    "editable": true
   },
   "source": [
    "### Train on a Single CIFAR-10 Batch\n",
    "Instead of training the neural network on all the CIFAR-10 batches of data, let's use a single batch. This should save time while you iterate on the model to get a better accuracy.  Once the final validation accuracy is 50% or greater, run the model on all the data in the next section."
   ]
  },
  {
   "cell_type": "code",
   "execution_count": 53,
   "metadata": {
    "collapsed": false,
    "deletable": true,
    "editable": true
   },
   "outputs": [
    {
     "name": "stdout",
     "output_type": "stream",
     "text": [
      "Checking the Training on a Single Batch...\n",
      "Epoch  1, CIFAR-10 Batch 1:  Loss:     2.2766 Validation Accuracy: 0.216600\n",
      "Epoch  2, CIFAR-10 Batch 1:  Loss:     2.0320 Validation Accuracy: 0.276800\n",
      "Epoch  3, CIFAR-10 Batch 1:  Loss:     1.8662 Validation Accuracy: 0.349000\n",
      "Epoch  4, CIFAR-10 Batch 1:  Loss:     1.7496 Validation Accuracy: 0.382000\n",
      "Epoch  5, CIFAR-10 Batch 1:  Loss:     1.6751 Validation Accuracy: 0.395800\n",
      "Epoch  6, CIFAR-10 Batch 1:  Loss:     1.6160 Validation Accuracy: 0.411800\n",
      "Epoch  7, CIFAR-10 Batch 1:  Loss:     1.5595 Validation Accuracy: 0.433000\n",
      "Epoch  8, CIFAR-10 Batch 1:  Loss:     1.5274 Validation Accuracy: 0.448400\n",
      "Epoch  9, CIFAR-10 Batch 1:  Loss:     1.4833 Validation Accuracy: 0.460200\n",
      "Epoch 10, CIFAR-10 Batch 1:  Loss:     1.4602 Validation Accuracy: 0.475200\n",
      "Epoch 11, CIFAR-10 Batch 1:  Loss:     1.4223 Validation Accuracy: 0.478600\n",
      "Epoch 12, CIFAR-10 Batch 1:  Loss:     1.3989 Validation Accuracy: 0.492200\n",
      "Epoch 13, CIFAR-10 Batch 1:  Loss:     1.3646 Validation Accuracy: 0.502800\n",
      "Epoch 14, CIFAR-10 Batch 1:  Loss:     1.3421 Validation Accuracy: 0.510000\n",
      "Epoch 15, CIFAR-10 Batch 1:  Loss:     1.3245 Validation Accuracy: 0.511400\n",
      "Epoch 16, CIFAR-10 Batch 1:  Loss:     1.3021 Validation Accuracy: 0.519400\n",
      "Epoch 17, CIFAR-10 Batch 1:  Loss:     1.2848 Validation Accuracy: 0.524000\n",
      "Epoch 18, CIFAR-10 Batch 1:  Loss:     1.2675 Validation Accuracy: 0.528600\n",
      "Epoch 19, CIFAR-10 Batch 1:  Loss:     1.2405 Validation Accuracy: 0.534600\n",
      "Epoch 20, CIFAR-10 Batch 1:  Loss:     1.2282 Validation Accuracy: 0.539200\n",
      "Epoch 21, CIFAR-10 Batch 1:  Loss:     1.2216 Validation Accuracy: 0.543000\n",
      "Epoch 22, CIFAR-10 Batch 1:  Loss:     1.2117 Validation Accuracy: 0.541800\n",
      "Epoch 23, CIFAR-10 Batch 1:  Loss:     1.1799 Validation Accuracy: 0.556000\n",
      "Epoch 24, CIFAR-10 Batch 1:  Loss:     1.1679 Validation Accuracy: 0.551600\n",
      "Epoch 25, CIFAR-10 Batch 1:  Loss:     1.1722 Validation Accuracy: 0.549000\n",
      "Epoch 26, CIFAR-10 Batch 1:  Loss:     1.1530 Validation Accuracy: 0.559400\n",
      "Epoch 27, CIFAR-10 Batch 1:  Loss:     1.1437 Validation Accuracy: 0.558400\n",
      "Epoch 28, CIFAR-10 Batch 1:  Loss:     1.1206 Validation Accuracy: 0.571200\n",
      "Epoch 29, CIFAR-10 Batch 1:  Loss:     1.1120 Validation Accuracy: 0.568800\n",
      "Epoch 30, CIFAR-10 Batch 1:  Loss:     1.0976 Validation Accuracy: 0.570200\n",
      "Epoch 31, CIFAR-10 Batch 1:  Loss:     1.0999 Validation Accuracy: 0.571800\n",
      "Epoch 32, CIFAR-10 Batch 1:  Loss:     1.0780 Validation Accuracy: 0.574400\n",
      "Epoch 33, CIFAR-10 Batch 1:  Loss:     1.0613 Validation Accuracy: 0.576400\n",
      "Epoch 34, CIFAR-10 Batch 1:  Loss:     1.0738 Validation Accuracy: 0.580600\n",
      "Epoch 35, CIFAR-10 Batch 1:  Loss:     1.0407 Validation Accuracy: 0.583800\n",
      "Epoch 36, CIFAR-10 Batch 1:  Loss:     1.0233 Validation Accuracy: 0.588000\n",
      "Epoch 37, CIFAR-10 Batch 1:  Loss:     1.0328 Validation Accuracy: 0.585400\n",
      "Epoch 38, CIFAR-10 Batch 1:  Loss:     1.0152 Validation Accuracy: 0.586800\n",
      "Epoch 39, CIFAR-10 Batch 1:  Loss:     1.0124 Validation Accuracy: 0.585000\n",
      "Epoch 40, CIFAR-10 Batch 1:  Loss:     0.9849 Validation Accuracy: 0.593400\n",
      "Epoch 41, CIFAR-10 Batch 1:  Loss:     1.0004 Validation Accuracy: 0.588800\n",
      "Epoch 42, CIFAR-10 Batch 1:  Loss:     0.9918 Validation Accuracy: 0.591400\n",
      "Epoch 43, CIFAR-10 Batch 1:  Loss:     0.9718 Validation Accuracy: 0.590800\n",
      "Epoch 44, CIFAR-10 Batch 1:  Loss:     0.9375 Validation Accuracy: 0.592400\n",
      "Epoch 45, CIFAR-10 Batch 1:  Loss:     0.9550 Validation Accuracy: 0.593000\n",
      "Epoch 46, CIFAR-10 Batch 1:  Loss:     0.9539 Validation Accuracy: 0.591600\n",
      "Epoch 47, CIFAR-10 Batch 1:  Loss:     0.9132 Validation Accuracy: 0.597000\n",
      "Epoch 48, CIFAR-10 Batch 1:  Loss:     0.9057 Validation Accuracy: 0.600400\n",
      "Epoch 49, CIFAR-10 Batch 1:  Loss:     0.8875 Validation Accuracy: 0.604600\n",
      "Epoch 50, CIFAR-10 Batch 1:  Loss:     0.8692 Validation Accuracy: 0.608200\n"
     ]
    }
   ],
   "source": [
    "\"\"\"\n",
    "DON'T MODIFY ANYTHING IN THIS CELL\n",
    "\"\"\"\n",
    "print('Checking the Training on a Single Batch...')\n",
    "with tf.Session() as sess:\n",
    "    # Initializing the variables\n",
    "    sess.run(tf.global_variables_initializer())\n",
    "    \n",
    "    # Training cycle\n",
    "    for epoch in range(epochs):\n",
    "        batch_i = 1\n",
    "        for batch_features, batch_labels in helper.load_preprocess_training_batch(batch_i, batch_size):\n",
    "            train_neural_network(sess, optimizer, keep_probability, batch_features, batch_labels)\n",
    "        print('Epoch {:>2}, CIFAR-10 Batch {}:  '.format(epoch + 1, batch_i), end='')\n",
    "        print_stats(sess, batch_features, batch_labels, cost, accuracy)"
   ]
  },
  {
   "cell_type": "markdown",
   "metadata": {
    "deletable": true,
    "editable": true
   },
   "source": [
    "### Fully Train the Model\n",
    "Now that you got a good accuracy with a single CIFAR-10 batch, try it with all five batches."
   ]
  },
  {
   "cell_type": "code",
   "execution_count": 54,
   "metadata": {
    "collapsed": false,
    "deletable": true,
    "editable": true,
    "scrolled": true
   },
   "outputs": [
    {
     "name": "stdout",
     "output_type": "stream",
     "text": [
      "Training...\n",
      "Epoch  1, CIFAR-10 Batch 1:  Loss:     2.2887 Validation Accuracy: 0.221200\n",
      "Epoch  1, CIFAR-10 Batch 2:  Loss:     2.0552 Validation Accuracy: 0.305600\n",
      "Epoch  1, CIFAR-10 Batch 3:  Loss:     1.8382 Validation Accuracy: 0.352600\n",
      "Epoch  1, CIFAR-10 Batch 4:  Loss:     1.7049 Validation Accuracy: 0.394800\n",
      "Epoch  1, CIFAR-10 Batch 5:  Loss:     1.7003 Validation Accuracy: 0.390800\n",
      "Epoch  2, CIFAR-10 Batch 1:  Loss:     1.6149 Validation Accuracy: 0.436400\n",
      "Epoch  2, CIFAR-10 Batch 2:  Loss:     1.5714 Validation Accuracy: 0.441400\n",
      "Epoch  2, CIFAR-10 Batch 3:  Loss:     1.4765 Validation Accuracy: 0.450000\n",
      "Epoch  2, CIFAR-10 Batch 4:  Loss:     1.4256 Validation Accuracy: 0.473000\n",
      "Epoch  2, CIFAR-10 Batch 5:  Loss:     1.4553 Validation Accuracy: 0.473600\n",
      "Epoch  3, CIFAR-10 Batch 1:  Loss:     1.4270 Validation Accuracy: 0.500800\n",
      "Epoch  3, CIFAR-10 Batch 2:  Loss:     1.4167 Validation Accuracy: 0.483800\n",
      "Epoch  3, CIFAR-10 Batch 3:  Loss:     1.3422 Validation Accuracy: 0.503800\n",
      "Epoch  3, CIFAR-10 Batch 4:  Loss:     1.2973 Validation Accuracy: 0.520400\n",
      "Epoch  3, CIFAR-10 Batch 5:  Loss:     1.3412 Validation Accuracy: 0.522000\n",
      "Epoch  4, CIFAR-10 Batch 1:  Loss:     1.3148 Validation Accuracy: 0.539000\n",
      "Epoch  4, CIFAR-10 Batch 2:  Loss:     1.3432 Validation Accuracy: 0.531800\n",
      "Epoch  4, CIFAR-10 Batch 3:  Loss:     1.2677 Validation Accuracy: 0.536400\n",
      "Epoch  4, CIFAR-10 Batch 4:  Loss:     1.2344 Validation Accuracy: 0.540600\n",
      "Epoch  4, CIFAR-10 Batch 5:  Loss:     1.2554 Validation Accuracy: 0.543600\n",
      "Epoch  5, CIFAR-10 Batch 1:  Loss:     1.2633 Validation Accuracy: 0.557200\n",
      "Epoch  5, CIFAR-10 Batch 2:  Loss:     1.2792 Validation Accuracy: 0.551600\n",
      "Epoch  5, CIFAR-10 Batch 3:  Loss:     1.2240 Validation Accuracy: 0.556400\n",
      "Epoch  5, CIFAR-10 Batch 4:  Loss:     1.1945 Validation Accuracy: 0.567600\n",
      "Epoch  5, CIFAR-10 Batch 5:  Loss:     1.1947 Validation Accuracy: 0.572800\n",
      "Epoch  6, CIFAR-10 Batch 1:  Loss:     1.2199 Validation Accuracy: 0.577000\n",
      "Epoch  6, CIFAR-10 Batch 2:  Loss:     1.2175 Validation Accuracy: 0.574400\n",
      "Epoch  6, CIFAR-10 Batch 3:  Loss:     1.1727 Validation Accuracy: 0.572800\n",
      "Epoch  6, CIFAR-10 Batch 4:  Loss:     1.1268 Validation Accuracy: 0.582800\n",
      "Epoch  6, CIFAR-10 Batch 5:  Loss:     1.1453 Validation Accuracy: 0.587000\n",
      "Epoch  7, CIFAR-10 Batch 1:  Loss:     1.1914 Validation Accuracy: 0.593600\n",
      "Epoch  7, CIFAR-10 Batch 2:  Loss:     1.1727 Validation Accuracy: 0.590200\n",
      "Epoch  7, CIFAR-10 Batch 3:  Loss:     1.1408 Validation Accuracy: 0.588400\n",
      "Epoch  7, CIFAR-10 Batch 4:  Loss:     1.1007 Validation Accuracy: 0.603000\n",
      "Epoch  7, CIFAR-10 Batch 5:  Loss:     1.1037 Validation Accuracy: 0.595000\n",
      "Epoch  8, CIFAR-10 Batch 1:  Loss:     1.1444 Validation Accuracy: 0.606000\n",
      "Epoch  8, CIFAR-10 Batch 2:  Loss:     1.1294 Validation Accuracy: 0.610200\n",
      "Epoch  8, CIFAR-10 Batch 3:  Loss:     1.0926 Validation Accuracy: 0.599600\n",
      "Epoch  8, CIFAR-10 Batch 4:  Loss:     1.0616 Validation Accuracy: 0.612400\n",
      "Epoch  8, CIFAR-10 Batch 5:  Loss:     1.0684 Validation Accuracy: 0.610000\n",
      "Epoch  9, CIFAR-10 Batch 1:  Loss:     1.1165 Validation Accuracy: 0.616800\n",
      "Epoch  9, CIFAR-10 Batch 2:  Loss:     1.1007 Validation Accuracy: 0.619800\n",
      "Epoch  9, CIFAR-10 Batch 3:  Loss:     1.0768 Validation Accuracy: 0.610600\n",
      "Epoch  9, CIFAR-10 Batch 4:  Loss:     1.0352 Validation Accuracy: 0.620800\n",
      "Epoch  9, CIFAR-10 Batch 5:  Loss:     1.0467 Validation Accuracy: 0.620800\n",
      "Epoch 10, CIFAR-10 Batch 1:  Loss:     1.0993 Validation Accuracy: 0.619200\n",
      "Epoch 10, CIFAR-10 Batch 2:  Loss:     1.0781 Validation Accuracy: 0.616800\n",
      "Epoch 10, CIFAR-10 Batch 3:  Loss:     1.0509 Validation Accuracy: 0.619400\n",
      "Epoch 10, CIFAR-10 Batch 4:  Loss:     1.0175 Validation Accuracy: 0.624000\n",
      "Epoch 10, CIFAR-10 Batch 5:  Loss:     1.0186 Validation Accuracy: 0.622600\n",
      "Epoch 11, CIFAR-10 Batch 1:  Loss:     1.0810 Validation Accuracy: 0.630000\n",
      "Epoch 11, CIFAR-10 Batch 2:  Loss:     1.0563 Validation Accuracy: 0.628600\n",
      "Epoch 11, CIFAR-10 Batch 3:  Loss:     1.0116 Validation Accuracy: 0.635400\n",
      "Epoch 11, CIFAR-10 Batch 4:  Loss:     0.9942 Validation Accuracy: 0.631000\n",
      "Epoch 11, CIFAR-10 Batch 5:  Loss:     1.0209 Validation Accuracy: 0.628000\n",
      "Epoch 12, CIFAR-10 Batch 1:  Loss:     1.0623 Validation Accuracy: 0.627800\n",
      "Epoch 12, CIFAR-10 Batch 2:  Loss:     1.0258 Validation Accuracy: 0.630000\n",
      "Epoch 12, CIFAR-10 Batch 3:  Loss:     0.9899 Validation Accuracy: 0.637200\n",
      "Epoch 12, CIFAR-10 Batch 4:  Loss:     0.9732 Validation Accuracy: 0.634200\n",
      "Epoch 12, CIFAR-10 Batch 5:  Loss:     0.9731 Validation Accuracy: 0.629800\n",
      "Epoch 13, CIFAR-10 Batch 1:  Loss:     1.0344 Validation Accuracy: 0.637800\n",
      "Epoch 13, CIFAR-10 Batch 2:  Loss:     1.0062 Validation Accuracy: 0.639400\n",
      "Epoch 13, CIFAR-10 Batch 3:  Loss:     0.9689 Validation Accuracy: 0.644200\n",
      "Epoch 13, CIFAR-10 Batch 4:  Loss:     0.9637 Validation Accuracy: 0.639000\n",
      "Epoch 13, CIFAR-10 Batch 5:  Loss:     0.9620 Validation Accuracy: 0.636600\n",
      "Epoch 14, CIFAR-10 Batch 1:  Loss:     1.0412 Validation Accuracy: 0.644800\n",
      "Epoch 14, CIFAR-10 Batch 2:  Loss:     1.0096 Validation Accuracy: 0.641800\n",
      "Epoch 14, CIFAR-10 Batch 3:  Loss:     0.9619 Validation Accuracy: 0.639000\n",
      "Epoch 14, CIFAR-10 Batch 4:  Loss:     0.9401 Validation Accuracy: 0.647400\n",
      "Epoch 14, CIFAR-10 Batch 5:  Loss:     0.9289 Validation Accuracy: 0.646600\n",
      "Epoch 15, CIFAR-10 Batch 1:  Loss:     0.9929 Validation Accuracy: 0.647800\n",
      "Epoch 15, CIFAR-10 Batch 2:  Loss:     0.9973 Validation Accuracy: 0.640200\n",
      "Epoch 15, CIFAR-10 Batch 3:  Loss:     0.9477 Validation Accuracy: 0.646200\n",
      "Epoch 15, CIFAR-10 Batch 4:  Loss:     0.9295 Validation Accuracy: 0.653200\n",
      "Epoch 15, CIFAR-10 Batch 5:  Loss:     0.9327 Validation Accuracy: 0.644400\n",
      "Epoch 16, CIFAR-10 Batch 1:  Loss:     0.9958 Validation Accuracy: 0.649800\n",
      "Epoch 16, CIFAR-10 Batch 2:  Loss:     0.9731 Validation Accuracy: 0.657400\n",
      "Epoch 16, CIFAR-10 Batch 3:  Loss:     0.9148 Validation Accuracy: 0.654600\n",
      "Epoch 16, CIFAR-10 Batch 4:  Loss:     0.9291 Validation Accuracy: 0.648600\n",
      "Epoch 16, CIFAR-10 Batch 5:  Loss:     0.9256 Validation Accuracy: 0.650600\n",
      "Epoch 17, CIFAR-10 Batch 1:  Loss:     0.9755 Validation Accuracy: 0.654600\n",
      "Epoch 17, CIFAR-10 Batch 2:  Loss:     0.9562 Validation Accuracy: 0.651800\n",
      "Epoch 17, CIFAR-10 Batch 3:  Loss:     0.9172 Validation Accuracy: 0.656600\n",
      "Epoch 17, CIFAR-10 Batch 4:  Loss:     0.9024 Validation Accuracy: 0.660200\n",
      "Epoch 17, CIFAR-10 Batch 5:  Loss:     0.8953 Validation Accuracy: 0.655400\n",
      "Epoch 18, CIFAR-10 Batch 1:  Loss:     0.9472 Validation Accuracy: 0.656000\n",
      "Epoch 18, CIFAR-10 Batch 2:  Loss:     0.9525 Validation Accuracy: 0.660400\n",
      "Epoch 18, CIFAR-10 Batch 3:  Loss:     0.9071 Validation Accuracy: 0.658800\n",
      "Epoch 18, CIFAR-10 Batch 4:  Loss:     0.8959 Validation Accuracy: 0.657800\n",
      "Epoch 18, CIFAR-10 Batch 5:  Loss:     0.8900 Validation Accuracy: 0.657800\n",
      "Epoch 19, CIFAR-10 Batch 1:  Loss:     0.9499 Validation Accuracy: 0.660800\n",
      "Epoch 19, CIFAR-10 Batch 2:  Loss:     0.9421 Validation Accuracy: 0.662600\n",
      "Epoch 19, CIFAR-10 Batch 3:  Loss:     0.9081 Validation Accuracy: 0.657400\n",
      "Epoch 19, CIFAR-10 Batch 4:  Loss:     0.8947 Validation Accuracy: 0.662000\n",
      "Epoch 19, CIFAR-10 Batch 5:  Loss:     0.8697 Validation Accuracy: 0.656800\n",
      "Epoch 20, CIFAR-10 Batch 1:  Loss:     0.9278 Validation Accuracy: 0.664600\n",
      "Epoch 20, CIFAR-10 Batch 2:  Loss:     0.9199 Validation Accuracy: 0.665400\n",
      "Epoch 20, CIFAR-10 Batch 3:  Loss:     0.8785 Validation Accuracy: 0.669200\n",
      "Epoch 20, CIFAR-10 Batch 4:  Loss:     0.8652 Validation Accuracy: 0.668400\n",
      "Epoch 20, CIFAR-10 Batch 5:  Loss:     0.8624 Validation Accuracy: 0.668200\n",
      "Epoch 21, CIFAR-10 Batch 1:  Loss:     0.9176 Validation Accuracy: 0.668600\n",
      "Epoch 21, CIFAR-10 Batch 2:  Loss:     0.9137 Validation Accuracy: 0.661400\n",
      "Epoch 21, CIFAR-10 Batch 3:  Loss:     0.8650 Validation Accuracy: 0.667200\n",
      "Epoch 21, CIFAR-10 Batch 4:  Loss:     0.8528 Validation Accuracy: 0.670200\n",
      "Epoch 21, CIFAR-10 Batch 5:  Loss:     0.8533 Validation Accuracy: 0.665600\n",
      "Epoch 22, CIFAR-10 Batch 1:  Loss:     0.9075 Validation Accuracy: 0.666200\n",
      "Epoch 22, CIFAR-10 Batch 2:  Loss:     0.8923 Validation Accuracy: 0.668800\n",
      "Epoch 22, CIFAR-10 Batch 3:  Loss:     0.8693 Validation Accuracy: 0.669600\n",
      "Epoch 22, CIFAR-10 Batch 4:  Loss:     0.8410 Validation Accuracy: 0.669600\n",
      "Epoch 22, CIFAR-10 Batch 5:  Loss:     0.8440 Validation Accuracy: 0.666600\n",
      "Epoch 23, CIFAR-10 Batch 1:  Loss:     0.8936 Validation Accuracy: 0.669000\n",
      "Epoch 23, CIFAR-10 Batch 2:  Loss:     0.8813 Validation Accuracy: 0.670600\n",
      "Epoch 23, CIFAR-10 Batch 3:  Loss:     0.8645 Validation Accuracy: 0.667200\n",
      "Epoch 23, CIFAR-10 Batch 4:  Loss:     0.8409 Validation Accuracy: 0.672000\n",
      "Epoch 23, CIFAR-10 Batch 5:  Loss:     0.8223 Validation Accuracy: 0.669800\n",
      "Epoch 24, CIFAR-10 Batch 1:  Loss:     0.8894 Validation Accuracy: 0.671400\n",
      "Epoch 24, CIFAR-10 Batch 2:  Loss:     0.8901 Validation Accuracy: 0.670600\n",
      "Epoch 24, CIFAR-10 Batch 3:  Loss:     0.8404 Validation Accuracy: 0.673600\n",
      "Epoch 24, CIFAR-10 Batch 4:  Loss:     0.8348 Validation Accuracy: 0.678600\n",
      "Epoch 24, CIFAR-10 Batch 5:  Loss:     0.8339 Validation Accuracy: 0.673000\n",
      "Epoch 25, CIFAR-10 Batch 1:  Loss:     0.8868 Validation Accuracy: 0.669800\n",
      "Epoch 25, CIFAR-10 Batch 2:  Loss:     0.8684 Validation Accuracy: 0.673400\n",
      "Epoch 25, CIFAR-10 Batch 3:  Loss:     0.8296 Validation Accuracy: 0.673800\n",
      "Epoch 25, CIFAR-10 Batch 4:  Loss:     0.8316 Validation Accuracy: 0.671400\n",
      "Epoch 25, CIFAR-10 Batch 5:  Loss:     0.8240 Validation Accuracy: 0.666600\n",
      "Epoch 26, CIFAR-10 Batch 1:  Loss:     0.8700 Validation Accuracy: 0.676600\n",
      "Epoch 26, CIFAR-10 Batch 2:  Loss:     0.8727 Validation Accuracy: 0.675200\n",
      "Epoch 26, CIFAR-10 Batch 3:  Loss:     0.8166 Validation Accuracy: 0.675600\n",
      "Epoch 26, CIFAR-10 Batch 4:  Loss:     0.8144 Validation Accuracy: 0.679400\n",
      "Epoch 26, CIFAR-10 Batch 5:  Loss:     0.7879 Validation Accuracy: 0.676400\n",
      "Epoch 27, CIFAR-10 Batch 1:  Loss:     0.8610 Validation Accuracy: 0.681000\n",
      "Epoch 27, CIFAR-10 Batch 2:  Loss:     0.8576 Validation Accuracy: 0.676600\n",
      "Epoch 27, CIFAR-10 Batch 3:  Loss:     0.8115 Validation Accuracy: 0.681200\n",
      "Epoch 27, CIFAR-10 Batch 4:  Loss:     0.8017 Validation Accuracy: 0.679000\n",
      "Epoch 27, CIFAR-10 Batch 5:  Loss:     0.7801 Validation Accuracy: 0.684800\n",
      "Epoch 28, CIFAR-10 Batch 1:  Loss:     0.8524 Validation Accuracy: 0.671400\n",
      "Epoch 28, CIFAR-10 Batch 2:  Loss:     0.8513 Validation Accuracy: 0.679400\n",
      "Epoch 28, CIFAR-10 Batch 3:  Loss:     0.7985 Validation Accuracy: 0.680200\n",
      "Epoch 28, CIFAR-10 Batch 4:  Loss:     0.7870 Validation Accuracy: 0.683400\n",
      "Epoch 28, CIFAR-10 Batch 5:  Loss:     0.7991 Validation Accuracy: 0.672000\n",
      "Epoch 29, CIFAR-10 Batch 1:  Loss:     0.8554 Validation Accuracy: 0.671600\n",
      "Epoch 29, CIFAR-10 Batch 2:  Loss:     0.8583 Validation Accuracy: 0.676800\n",
      "Epoch 29, CIFAR-10 Batch 3:  Loss:     0.8142 Validation Accuracy: 0.672200\n",
      "Epoch 29, CIFAR-10 Batch 4:  Loss:     0.7867 Validation Accuracy: 0.679600\n",
      "Epoch 29, CIFAR-10 Batch 5:  Loss:     0.7866 Validation Accuracy: 0.678000\n",
      "Epoch 30, CIFAR-10 Batch 1:  Loss:     0.8361 Validation Accuracy: 0.677200\n",
      "Epoch 30, CIFAR-10 Batch 2:  Loss:     0.8350 Validation Accuracy: 0.675800\n",
      "Epoch 30, CIFAR-10 Batch 3:  Loss:     0.7767 Validation Accuracy: 0.685600\n",
      "Epoch 30, CIFAR-10 Batch 4:  Loss:     0.7924 Validation Accuracy: 0.683800\n",
      "Epoch 30, CIFAR-10 Batch 5:  Loss:     0.7699 Validation Accuracy: 0.683800\n",
      "Epoch 31, CIFAR-10 Batch 1:  Loss:     0.8320 Validation Accuracy: 0.680800\n",
      "Epoch 31, CIFAR-10 Batch 2:  Loss:     0.8242 Validation Accuracy: 0.688200\n",
      "Epoch 31, CIFAR-10 Batch 3:  Loss:     0.7989 Validation Accuracy: 0.677600\n",
      "Epoch 31, CIFAR-10 Batch 4:  Loss:     0.7771 Validation Accuracy: 0.684400\n",
      "Epoch 31, CIFAR-10 Batch 5:  Loss:     0.7605 Validation Accuracy: 0.687000\n",
      "Epoch 32, CIFAR-10 Batch 1:  Loss:     0.8316 Validation Accuracy: 0.688800\n",
      "Epoch 32, CIFAR-10 Batch 2:  Loss:     0.8214 Validation Accuracy: 0.690200\n",
      "Epoch 32, CIFAR-10 Batch 3:  Loss:     0.7720 Validation Accuracy: 0.694000\n",
      "Epoch 32, CIFAR-10 Batch 4:  Loss:     0.7693 Validation Accuracy: 0.684400\n",
      "Epoch 32, CIFAR-10 Batch 5:  Loss:     0.7556 Validation Accuracy: 0.682400\n",
      "Epoch 33, CIFAR-10 Batch 1:  Loss:     0.8120 Validation Accuracy: 0.684600\n",
      "Epoch 33, CIFAR-10 Batch 2:  Loss:     0.8162 Validation Accuracy: 0.687200\n",
      "Epoch 33, CIFAR-10 Batch 3:  Loss:     0.7705 Validation Accuracy: 0.688400\n",
      "Epoch 33, CIFAR-10 Batch 4:  Loss:     0.7680 Validation Accuracy: 0.686800\n",
      "Epoch 33, CIFAR-10 Batch 5:  Loss:     0.7553 Validation Accuracy: 0.685800\n",
      "Epoch 34, CIFAR-10 Batch 1:  Loss:     0.8212 Validation Accuracy: 0.683400\n",
      "Epoch 34, CIFAR-10 Batch 2:  Loss:     0.8235 Validation Accuracy: 0.680000\n",
      "Epoch 34, CIFAR-10 Batch 3:  Loss:     0.7713 Validation Accuracy: 0.682000\n",
      "Epoch 34, CIFAR-10 Batch 4:  Loss:     0.7617 Validation Accuracy: 0.684600\n",
      "Epoch 34, CIFAR-10 Batch 5:  Loss:     0.7467 Validation Accuracy: 0.685400\n",
      "Epoch 35, CIFAR-10 Batch 1:  Loss:     0.8293 Validation Accuracy: 0.680000\n",
      "Epoch 35, CIFAR-10 Batch 2:  Loss:     0.8240 Validation Accuracy: 0.684200\n",
      "Epoch 35, CIFAR-10 Batch 3:  Loss:     0.7671 Validation Accuracy: 0.681000\n",
      "Epoch 35, CIFAR-10 Batch 4:  Loss:     0.7566 Validation Accuracy: 0.688600\n",
      "Epoch 35, CIFAR-10 Batch 5:  Loss:     0.7417 Validation Accuracy: 0.684400\n",
      "Epoch 36, CIFAR-10 Batch 1:  Loss:     0.8141 Validation Accuracy: 0.688400\n",
      "Epoch 36, CIFAR-10 Batch 2:  Loss:     0.7947 Validation Accuracy: 0.692400\n",
      "Epoch 36, CIFAR-10 Batch 3:  Loss:     0.7557 Validation Accuracy: 0.684600\n",
      "Epoch 36, CIFAR-10 Batch 4:  Loss:     0.7467 Validation Accuracy: 0.685400\n",
      "Epoch 36, CIFAR-10 Batch 5:  Loss:     0.7267 Validation Accuracy: 0.687800\n",
      "Epoch 37, CIFAR-10 Batch 1:  Loss:     0.8080 Validation Accuracy: 0.681600\n",
      "Epoch 37, CIFAR-10 Batch 2:  Loss:     0.7942 Validation Accuracy: 0.690600\n",
      "Epoch 37, CIFAR-10 Batch 3:  Loss:     0.7461 Validation Accuracy: 0.689600\n",
      "Epoch 37, CIFAR-10 Batch 4:  Loss:     0.7397 Validation Accuracy: 0.694800\n",
      "Epoch 37, CIFAR-10 Batch 5:  Loss:     0.7221 Validation Accuracy: 0.689800\n",
      "Epoch 38, CIFAR-10 Batch 1:  Loss:     0.8018 Validation Accuracy: 0.681800\n",
      "Epoch 38, CIFAR-10 Batch 2:  Loss:     0.7859 Validation Accuracy: 0.687400\n",
      "Epoch 38, CIFAR-10 Batch 3:  Loss:     0.7454 Validation Accuracy: 0.689400\n",
      "Epoch 38, CIFAR-10 Batch 4:  Loss:     0.7501 Validation Accuracy: 0.686200\n",
      "Epoch 38, CIFAR-10 Batch 5:  Loss:     0.7241 Validation Accuracy: 0.695400\n",
      "Epoch 39, CIFAR-10 Batch 1:  Loss:     0.7972 Validation Accuracy: 0.685200\n",
      "Epoch 39, CIFAR-10 Batch 2:  Loss:     0.7799 Validation Accuracy: 0.689200\n",
      "Epoch 39, CIFAR-10 Batch 3:  Loss:     0.7237 Validation Accuracy: 0.695800\n",
      "Epoch 39, CIFAR-10 Batch 4:  Loss:     0.7230 Validation Accuracy: 0.694800\n",
      "Epoch 39, CIFAR-10 Batch 5:  Loss:     0.7105 Validation Accuracy: 0.694000\n",
      "Epoch 40, CIFAR-10 Batch 1:  Loss:     0.7924 Validation Accuracy: 0.685800\n",
      "Epoch 40, CIFAR-10 Batch 2:  Loss:     0.7849 Validation Accuracy: 0.688400\n",
      "Epoch 40, CIFAR-10 Batch 3:  Loss:     0.7270 Validation Accuracy: 0.695600\n",
      "Epoch 40, CIFAR-10 Batch 4:  Loss:     0.7409 Validation Accuracy: 0.691600\n",
      "Epoch 40, CIFAR-10 Batch 5:  Loss:     0.7112 Validation Accuracy: 0.690400\n",
      "Epoch 41, CIFAR-10 Batch 1:  Loss:     0.7729 Validation Accuracy: 0.689600\n",
      "Epoch 41, CIFAR-10 Batch 2:  Loss:     0.7916 Validation Accuracy: 0.693400\n",
      "Epoch 41, CIFAR-10 Batch 3:  Loss:     0.7110 Validation Accuracy: 0.686400\n",
      "Epoch 41, CIFAR-10 Batch 4:  Loss:     0.7258 Validation Accuracy: 0.687600\n",
      "Epoch 41, CIFAR-10 Batch 5:  Loss:     0.7154 Validation Accuracy: 0.690400\n",
      "Epoch 42, CIFAR-10 Batch 1:  Loss:     0.7884 Validation Accuracy: 0.690400\n",
      "Epoch 42, CIFAR-10 Batch 2:  Loss:     0.7617 Validation Accuracy: 0.693400\n",
      "Epoch 42, CIFAR-10 Batch 3:  Loss:     0.7110 Validation Accuracy: 0.694200\n",
      "Epoch 42, CIFAR-10 Batch 4:  Loss:     0.7264 Validation Accuracy: 0.693800\n",
      "Epoch 42, CIFAR-10 Batch 5:  Loss:     0.6937 Validation Accuracy: 0.696600\n",
      "Epoch 43, CIFAR-10 Batch 1:  Loss:     0.7757 Validation Accuracy: 0.687000\n",
      "Epoch 43, CIFAR-10 Batch 2:  Loss:     0.7687 Validation Accuracy: 0.696600\n",
      "Epoch 43, CIFAR-10 Batch 3:  Loss:     0.7360 Validation Accuracy: 0.690000\n",
      "Epoch 43, CIFAR-10 Batch 4:  Loss:     0.7104 Validation Accuracy: 0.698400\n",
      "Epoch 43, CIFAR-10 Batch 5:  Loss:     0.7097 Validation Accuracy: 0.700800\n",
      "Epoch 44, CIFAR-10 Batch 1:  Loss:     0.7615 Validation Accuracy: 0.694800\n",
      "Epoch 44, CIFAR-10 Batch 2:  Loss:     0.7602 Validation Accuracy: 0.695400\n",
      "Epoch 44, CIFAR-10 Batch 3:  Loss:     0.7016 Validation Accuracy: 0.698600\n",
      "Epoch 44, CIFAR-10 Batch 4:  Loss:     0.7195 Validation Accuracy: 0.692600\n",
      "Epoch 44, CIFAR-10 Batch 5:  Loss:     0.6882 Validation Accuracy: 0.697200\n",
      "Epoch 45, CIFAR-10 Batch 1:  Loss:     0.7703 Validation Accuracy: 0.697000\n",
      "Epoch 45, CIFAR-10 Batch 2:  Loss:     0.7575 Validation Accuracy: 0.694000\n",
      "Epoch 45, CIFAR-10 Batch 3:  Loss:     0.7033 Validation Accuracy: 0.701200\n",
      "Epoch 45, CIFAR-10 Batch 4:  Loss:     0.7083 Validation Accuracy: 0.698600\n",
      "Epoch 45, CIFAR-10 Batch 5:  Loss:     0.6797 Validation Accuracy: 0.701000\n",
      "Epoch 46, CIFAR-10 Batch 1:  Loss:     0.7648 Validation Accuracy: 0.694200\n",
      "Epoch 46, CIFAR-10 Batch 2:  Loss:     0.7443 Validation Accuracy: 0.698800\n",
      "Epoch 46, CIFAR-10 Batch 3:  Loss:     0.6985 Validation Accuracy: 0.700000\n",
      "Epoch 46, CIFAR-10 Batch 4:  Loss:     0.7077 Validation Accuracy: 0.692600\n",
      "Epoch 46, CIFAR-10 Batch 5:  Loss:     0.6772 Validation Accuracy: 0.700400\n",
      "Epoch 47, CIFAR-10 Batch 1:  Loss:     0.7492 Validation Accuracy: 0.698600\n",
      "Epoch 47, CIFAR-10 Batch 2:  Loss:     0.7672 Validation Accuracy: 0.696800\n",
      "Epoch 47, CIFAR-10 Batch 3:  Loss:     0.6986 Validation Accuracy: 0.698200\n",
      "Epoch 47, CIFAR-10 Batch 4:  Loss:     0.7183 Validation Accuracy: 0.693800\n",
      "Epoch 47, CIFAR-10 Batch 5:  Loss:     0.6980 Validation Accuracy: 0.693800\n",
      "Epoch 48, CIFAR-10 Batch 1:  Loss:     0.7511 Validation Accuracy: 0.693400\n",
      "Epoch 48, CIFAR-10 Batch 2:  Loss:     0.7444 Validation Accuracy: 0.692800\n",
      "Epoch 48, CIFAR-10 Batch 3:  Loss:     0.6818 Validation Accuracy: 0.699600\n",
      "Epoch 48, CIFAR-10 Batch 4:  Loss:     0.6969 Validation Accuracy: 0.695800\n",
      "Epoch 48, CIFAR-10 Batch 5:  Loss:     0.6772 Validation Accuracy: 0.698000\n",
      "Epoch 49, CIFAR-10 Batch 1:  Loss:     0.7695 Validation Accuracy: 0.691800\n",
      "Epoch 49, CIFAR-10 Batch 2:  Loss:     0.7332 Validation Accuracy: 0.698600\n",
      "Epoch 49, CIFAR-10 Batch 3:  Loss:     0.6756 Validation Accuracy: 0.702600\n",
      "Epoch 49, CIFAR-10 Batch 4:  Loss:     0.6818 Validation Accuracy: 0.702400\n",
      "Epoch 49, CIFAR-10 Batch 5:  Loss:     0.6630 Validation Accuracy: 0.697800\n",
      "Epoch 50, CIFAR-10 Batch 1:  Loss:     0.7406 Validation Accuracy: 0.694400\n",
      "Epoch 50, CIFAR-10 Batch 2:  Loss:     0.7207 Validation Accuracy: 0.695400\n",
      "Epoch 50, CIFAR-10 Batch 3:  Loss:     0.7086 Validation Accuracy: 0.693400\n",
      "Epoch 50, CIFAR-10 Batch 4:  Loss:     0.6710 Validation Accuracy: 0.703200\n",
      "Epoch 50, CIFAR-10 Batch 5:  Loss:     0.6677 Validation Accuracy: 0.691200\n"
     ]
    }
   ],
   "source": [
    "\"\"\"\n",
    "DON'T MODIFY ANYTHING IN THIS CELL\n",
    "\"\"\"\n",
    "save_model_path = './image_classification'\n",
    "\n",
    "print('Training...')\n",
    "with tf.Session() as sess:\n",
    "    # Initializing the variables\n",
    "    sess.run(tf.global_variables_initializer())\n",
    "    \n",
    "    # Training cycle\n",
    "    for epoch in range(epochs):\n",
    "        # Loop over all batches\n",
    "        n_batches = 5\n",
    "        for batch_i in range(1, n_batches + 1):\n",
    "            for batch_features, batch_labels in helper.load_preprocess_training_batch(batch_i, batch_size):\n",
    "                train_neural_network(sess, optimizer, keep_probability, batch_features, batch_labels)\n",
    "            print('Epoch {:>2}, CIFAR-10 Batch {}:  '.format(epoch + 1, batch_i), end='')\n",
    "            print_stats(sess, batch_features, batch_labels, cost, accuracy)\n",
    "            \n",
    "    # Save Model\n",
    "    saver = tf.train.Saver()\n",
    "    save_path = saver.save(sess, save_model_path)"
   ]
  },
  {
   "cell_type": "markdown",
   "metadata": {
    "deletable": true,
    "editable": true
   },
   "source": [
    "# Checkpoint\n",
    "The model has been saved to disk.\n",
    "## Test Model\n",
    "Test your model against the test dataset.  This will be your final accuracy. You should have an accuracy greater than 50%. If you don't, keep tweaking the model architecture and parameters."
   ]
  },
  {
   "cell_type": "code",
   "execution_count": 55,
   "metadata": {
    "collapsed": false,
    "deletable": true,
    "editable": true
   },
   "outputs": [
    {
     "name": "stdout",
     "output_type": "stream",
     "text": [
      "Testing Accuracy: 0.690499997138977\n",
      "\n"
     ]
    },
    {
     "data": {
      "image/png": "[encoded data removed]",
      "text/plain": [
       "<matplotlib.figure.Figure at 0x7fd4ab1584e0>"
      ]
     },
     "metadata": {
      "image/png": {
       "height": 319,
       "width": 355
      }
     },
     "output_type": "display_data"
    }
   ],
   "source": [
    "\"\"\"\n",
    "DON'T MODIFY ANYTHING IN THIS CELL\n",
    "\"\"\"\n",
    "%matplotlib inline\n",
    "%config InlineBackend.figure_format = 'retina'\n",
    "\n",
    "import tensorflow as tf\n",
    "import pickle\n",
    "import helper\n",
    "import random\n",
    "\n",
    "# Set batch size if not already set\n",
    "try:\n",
    "    if batch_size:\n",
    "        pass\n",
    "except NameError:\n",
    "    batch_size = 64\n",
    "\n",
    "save_model_path = './image_classification'\n",
    "n_samples = 4\n",
    "top_n_predictions = 3\n",
    "\n",
    "def test_model():\n",
    "    \"\"\"\n",
    "    Test the saved model against the test dataset\n",
    "    \"\"\"\n",
    "\n",
    "    test_features, test_labels = pickle.load(open('preprocess_training.p', mode='rb'))\n",
    "    loaded_graph = tf.Graph()\n",
    "\n",
    "    with tf.Session(graph=loaded_graph) as sess:\n",
    "        # Load model\n",
    "        loader = tf.train.import_meta_graph(save_model_path + '.meta')\n",
    "        loader.restore(sess, save_model_path)\n",
    "\n",
    "        # Get Tensors from loaded model\n",
    "        loaded_x = loaded_graph.get_tensor_by_name('x:0')\n",
    "        loaded_y = loaded_graph.get_tensor_by_name('y:0')\n",
    "        loaded_keep_prob = loaded_graph.get_tensor_by_name('keep_prob:0')\n",
    "        loaded_logits = loaded_graph.get_tensor_by_name('logits:0')\n",
    "        loaded_acc = loaded_graph.get_tensor_by_name('accuracy:0')\n",
    "        \n",
    "        # Get accuracy in batches for memory limitations\n",
    "        test_batch_acc_total = 0\n",
    "        test_batch_count = 0\n",
    "        \n",
    "        for train_feature_batch, train_label_batch in helper.batch_features_labels(test_features, test_labels, batch_size):\n",
    "            test_batch_acc_total += sess.run(\n",
    "                loaded_acc,\n",
    "                feed_dict={loaded_x: train_feature_batch, loaded_y: train_label_batch, loaded_keep_prob: 1.0})\n",
    "            test_batch_count += 1\n",
    "\n",
    "        print('Testing Accuracy: {}\\n'.format(test_batch_acc_total/test_batch_count))\n",
    "\n",
    "        # Print Random Samples\n",
    "        random_test_features, random_test_labels = tuple(zip(*random.sample(list(zip(test_features, test_labels)), n_samples)))\n",
    "        random_test_predictions = sess.run(\n",
    "            tf.nn.top_k(tf.nn.softmax(loaded_logits), top_n_predictions),\n",
    "            feed_dict={loaded_x: random_test_features, loaded_y: random_test_labels, loaded_keep_prob: 1.0})\n",
    "        helper.display_image_predictions(random_test_features, random_test_labels, random_test_predictions)\n",
    "\n",
    "\n",
    "test_model()"
   ]
  },
  {
   "cell_type": "markdown",
   "metadata": {
    "deletable": true,
    "editable": true
   },
   "source": [
    "## Why 50-80% Accuracy?\n",
    "You might be wondering why you can't get an accuracy any higher. First things first, 50% isn't bad for a simple CNN.  Pure guessing would get you 10% accuracy. However, you might notice people are getting scores [well above 80%](http://rodrigob.github.io/are_we_there_yet/build/classification_datasets_results.html#43494641522d3130).  That's because we haven't taught you all there is to know about neural networks. We still need to cover a few more techniques.\n",
    "## Submitting This Project\n",
    "When submitting this project, make sure to run all the cells before saving the notebook.  Save the notebook file as \"dlnd_image_classification.ipynb\" and save it as a HTML file under \"File\" -> \"Download as\".  Include the \"helper.py\" and \"problem_unittests.py\" files in your submission."
   ]
  },
  {
   "cell_type": "code",
   "execution_count": null,
   "metadata": {
    "collapsed": true,
    "deletable": true,
    "editable": true
   },
   "outputs": [],
   "source": []
  }
 ],
 "metadata": {
  "kernelspec": {
   "display_name": "Python 3",
   "language": "python",
   "name": "python3"
  },
  "language_info": {
   "codemirror_mode": {
    "name": "ipython",
    "version": 3
   },
   "file_extension": ".py",
   "mimetype": "text/x-python",
   "name": "python",
   "nbconvert_exporter": "python",
   "pygments_lexer": "ipython3",
   "version": "3.5.2"
  },
  "widgets": {
   "state": {},
   "version": "1.1.2"
  }
 },
 "nbformat": 4,
 "nbformat_minor": 0
}
